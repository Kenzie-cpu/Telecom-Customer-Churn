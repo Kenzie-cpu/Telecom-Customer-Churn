{
 "cells": [
  {
   "cell_type": "markdown",
   "metadata": {},
   "source": [
    "### <center>  Machine Learning for Developers (MLDP)</center>\n",
    "### <center>  Individual Assignment</center>"
   ]
  },
  {
   "cell_type": "markdown",
   "metadata": {},
   "source": [
    "Data taken from: <br>\n",
    "https://www.kaggle.com/datasets/blastchar/telco-customer-churn<br>\n",
    "Which is a subset of the dataset taken from:<br>\n",
    "https://community.ibm.com/community/user/businessanalytics/blogs/steven-macko/2019/07/11/telco-customer-churn-1113"
   ]
  },
  {
   "cell_type": "markdown",
   "metadata": {},
   "source": [
    "Since the dataset telecom company is unknown, i will call it telecom X"
   ]
  },
  {
   "cell_type": "code",
   "execution_count": 1,
   "metadata": {},
   "outputs": [],
   "source": [
    "# data wrangling\n",
    "import pandas as pd\n",
    "import numpy as np\n",
    "\n",
    "# data visualizations\n",
    "import seaborn as sns\n",
    "import matplotlib.pyplot as plt\n",
    "import plotly.express as px\n",
    "import missingno as msno"
   ]
  },
  {
   "cell_type": "code",
   "execution_count": 2,
   "metadata": {},
   "outputs": [
    {
     "data": {
      "text/plain": [
       "(7043, 21)"
      ]
     },
     "execution_count": 2,
     "metadata": {},
     "output_type": "execute_result"
    }
   ],
   "source": [
    "churn_df = pd.read_csv(\"./WA_Fn-UseC_-Telco-Customer-Churn.csv\")\n",
    "churn_df.shape"
   ]
  },
  {
   "cell_type": "code",
   "execution_count": 3,
   "metadata": {},
   "outputs": [
    {
     "data": {
      "text/plain": [
       "array(['customerID', 'gender', 'SeniorCitizen', 'Partner', 'Dependents',\n",
       "       'tenure', 'PhoneService', 'MultipleLines', 'InternetService',\n",
       "       'OnlineSecurity', 'OnlineBackup', 'DeviceProtection',\n",
       "       'TechSupport', 'StreamingTV', 'StreamingMovies', 'Contract',\n",
       "       'PaperlessBilling', 'PaymentMethod', 'MonthlyCharges',\n",
       "       'TotalCharges', 'Churn'], dtype=object)"
      ]
     },
     "execution_count": 3,
     "metadata": {},
     "output_type": "execute_result"
    }
   ],
   "source": [
    "churn_df.columns.values"
   ]
  },
  {
   "cell_type": "markdown",
   "metadata": {},
   "source": [
    "Features can be separated into 3 categories:\n",
    "- Demographic info about customers – gender, age range, and if they have Partners and Dependents\n",
    "- Services that each customer has signed up for – PhoneService, MultipleLines, InternetService, OnlineSecurity, OnlineBackup, DeviceProtection, TechSupport, StreamingTV, StreamingMovies\n",
    "- Customer account information – tenure, Contract, PaymentMethod, PaperlessBilling, MonthlyCharges, TotalCharges\n",
    "- Whether customer have left within the last month - Churn"
   ]
  },
  {
   "cell_type": "code",
   "execution_count": 4,
   "metadata": {},
   "outputs": [],
   "source": [
    "cust_services = [\"PhoneService\", \"MultipleLines\", \"InternetService\", \"OnlineSecurity\", \"OnlineBackup\", \"DeviceProtection\", \"TechSupport\", \"StreamingTV\", \"StreamingMovies\"]\n",
    "cust_account = [\"tenure\", \"Contract\", \"PaymentMethod\", \"PaperlessBilling\", \"MonthlyCharges\", \"TotalCharges\"]\n",
    "categorical_features = [\"Contract\", \"PaymentMethod\", \"PaperlessBilling\",\"gender\", \"Partner\", \"Dependents\", \"SeniorCitizen\",\"PhoneService\", \"MultipleLines\", \"InternetService\", \"OnlineSecurity\", \"OnlineBackup\", \"DeviceProtection\", \"TechSupport\", \"StreamingTV\", \"StreamingMovies\"]\n",
    "num_features = [\"tenure\", 'MonthlyCharges', 'TotalCharges']"
   ]
  },
  {
   "cell_type": "markdown",
   "metadata": {},
   "source": [
    "### Data Preprocessing"
   ]
  },
  {
   "cell_type": "markdown",
   "metadata": {},
   "source": [
    "#### Check for Duplicates"
   ]
  },
  {
   "cell_type": "code",
   "execution_count": 5,
   "metadata": {},
   "outputs": [
    {
     "name": "stdout",
     "output_type": "stream",
     "text": [
      "Before removing duplicates: 0\n",
      "After removing duplicates: 0\n"
     ]
    }
   ],
   "source": [
    "before_dup = churn_df.duplicated().sum()\n",
    "churn_df.drop_duplicates(inplace=True)\n",
    "aft_dup = churn_df.duplicated().sum()\n",
    "print(f\"Before removing duplicates: {before_dup}\\nAfter removing duplicates: {aft_dup}\")"
   ]
  },
  {
   "cell_type": "markdown",
   "metadata": {},
   "source": [
    "#### Check for anomalous values"
   ]
  },
  {
   "cell_type": "code",
   "execution_count": 6,
   "metadata": {},
   "outputs": [
    {
     "name": "stdout",
     "output_type": "stream",
     "text": [
      "customerID: ['7590-VHVEG' '5575-GNVDE' '3668-QPYBK' ... '4801-JZAZL' '8361-LTMKD'\n",
      " '3186-AJIEK']\n",
      "gender: ['Female' 'Male']\n",
      "Partner: ['Yes' 'No']\n",
      "Dependents: ['No' 'Yes']\n",
      "PhoneService: ['No' 'Yes']\n",
      "MultipleLines: ['No phone service' 'No' 'Yes']\n",
      "InternetService: ['DSL' 'Fiber optic' 'No']\n",
      "OnlineSecurity: ['No' 'Yes' 'No internet service']\n",
      "OnlineBackup: ['Yes' 'No' 'No internet service']\n",
      "DeviceProtection: ['No' 'Yes' 'No internet service']\n",
      "TechSupport: ['No' 'Yes' 'No internet service']\n",
      "StreamingTV: ['No' 'Yes' 'No internet service']\n",
      "StreamingMovies: ['No' 'Yes' 'No internet service']\n",
      "Contract: ['Month-to-month' 'One year' 'Two year']\n",
      "PaperlessBilling: ['Yes' 'No']\n",
      "PaymentMethod: ['Electronic check' 'Mailed check' 'Bank transfer (automatic)'\n",
      " 'Credit card (automatic)']\n",
      "TotalCharges: ['29.85' '1889.5' '108.15' ... '346.45' '306.6' '6844.5']\n",
      "Churn: ['No' 'Yes']\n"
     ]
    }
   ],
   "source": [
    "for column in churn_df:\n",
    "    if churn_df[column].dtypes=='object':\n",
    "        print(f'{column}: {churn_df[column].unique()}') "
   ]
  },
  {
   "cell_type": "markdown",
   "metadata": {},
   "source": [
    "#### Remove missing values"
   ]
  },
  {
   "cell_type": "markdown",
   "metadata": {},
   "source": [
    "Since there are \" \" values in TotalCharges, set error to coerce so the string value in TotalCharges changes to a missing value"
   ]
  },
  {
   "cell_type": "code",
   "execution_count": 7,
   "metadata": {},
   "outputs": [
    {
     "data": {
      "text/plain": [
       "customerID           0\n",
       "gender               0\n",
       "SeniorCitizen        0\n",
       "Partner              0\n",
       "Dependents           0\n",
       "tenure               0\n",
       "PhoneService         0\n",
       "MultipleLines        0\n",
       "InternetService      0\n",
       "OnlineSecurity       0\n",
       "OnlineBackup         0\n",
       "DeviceProtection     0\n",
       "TechSupport          0\n",
       "StreamingTV          0\n",
       "StreamingMovies      0\n",
       "Contract             0\n",
       "PaperlessBilling     0\n",
       "PaymentMethod        0\n",
       "MonthlyCharges       0\n",
       "TotalCharges        11\n",
       "Churn                0\n",
       "dtype: int64"
      ]
     },
     "execution_count": 7,
     "metadata": {},
     "output_type": "execute_result"
    }
   ],
   "source": [
    "churn_df.TotalCharges = pd.to_numeric(churn_df.TotalCharges, errors='coerce')\n",
    "churn_df.isnull().sum()"
   ]
  },
  {
   "cell_type": "markdown",
   "metadata": {},
   "source": [
    "Since there are only 11 columns, dropping them would unlikely affect EDA and data modelling much"
   ]
  },
  {
   "cell_type": "code",
   "execution_count": 8,
   "metadata": {},
   "outputs": [],
   "source": [
    "churn_df.dropna(subset=[\"TotalCharges\"], how=\"any\", inplace=True)"
   ]
  },
  {
   "cell_type": "markdown",
   "metadata": {},
   "source": [
    "Since there are a few columns with \"No internet service\", which also implies \"No\", replace values with similar meanings, keeping these would inflate dimensionality more later on after one-hot encoding"
   ]
  },
  {
   "cell_type": "code",
   "execution_count": 9,
   "metadata": {},
   "outputs": [],
   "source": [
    "churn_df.replace('No internet service','No',inplace=True)\n",
    "churn_df.replace('No phone service','No',inplace=True)"
   ]
  },
  {
   "cell_type": "markdown",
   "metadata": {},
   "source": [
    "### Data Transformation"
   ]
  },
  {
   "cell_type": "markdown",
   "metadata": {},
   "source": [
    "Creating a new column \"Customer Services\", a discrete numerical column that shows the number of services the customer has signed up for"
   ]
  },
  {
   "cell_type": "code",
   "execution_count": 10,
   "metadata": {},
   "outputs": [],
   "source": [
    "# pass a row into function which iterates through customer services columns and count number of services customer signed up\n",
    "def sum_cust_services(row):\n",
    "    max_cust_services = len(cust_services)\n",
    "    # cust_services is a list of the column names for respective service columns \n",
    "    for i in cust_services:\n",
    "        if row[i] == \"No\": \n",
    "            max_cust_services -= 1\n",
    "    return max_cust_services\n",
    "churn_df[\"Customer Services\"] = 0 # initialize column before replacement"
   ]
  },
  {
   "cell_type": "code",
   "execution_count": 11,
   "metadata": {},
   "outputs": [
    {
     "name": "stderr",
     "output_type": "stream",
     "text": [
      "C:\\Users\\addsw\\AppData\\Local\\Temp\\ipykernel_12596\\569535102.py:2: SettingWithCopyWarning: \n",
      "A value is trying to be set on a copy of a slice from a DataFrame\n",
      "\n",
      "See the caveats in the documentation: https://pandas.pydata.org/pandas-docs/stable/user_guide/indexing.html#returning-a-view-versus-a-copy\n",
      "  churn_df[\"Customer Services\"].iloc[row_index]  = sum_cust_services(churn_df.iloc[row_index])\n"
     ]
    }
   ],
   "source": [
    "for row_index in range(0, churn_df.shape[0]):\n",
    "    churn_df[\"Customer Services\"].iloc[row_index]  = sum_cust_services(churn_df.iloc[row_index])"
   ]
  },
  {
   "cell_type": "markdown",
   "metadata": {},
   "source": [
    "Change SeniorCitizen and Churn column values from binary to string, easier to see for exploratory data analysis"
   ]
  },
  {
   "cell_type": "code",
   "execution_count": 12,
   "metadata": {},
   "outputs": [],
   "source": [
    "churn_df[\"SeniorCitizen\"].replace(to_replace=0, value=\"Not Senior\", inplace=True)\n",
    "churn_df[\"SeniorCitizen\"].replace(to_replace=1, value=\"Senior\", inplace=True)\n",
    "churn_df[\"Churn\"].replace(to_replace=\"Yes\", value=\"Churned\", inplace=True)\n",
    "churn_df[\"Churn\"].replace(to_replace=\"No\", value=\"Not Churned\", inplace=True)"
   ]
  },
  {
   "cell_type": "markdown",
   "metadata": {},
   "source": [
    "## Exploratory Data Anaylsis "
   ]
  },
  {
   "cell_type": "markdown",
   "metadata": {},
   "source": [
    "### 1. Customer Account Information: Focus on tenure & contract"
   ]
  },
  {
   "cell_type": "markdown",
   "metadata": {},
   "source": [
    "1.i) Distribution of tenure among customers"
   ]
  },
  {
   "cell_type": "code",
   "execution_count": 13,
   "metadata": {},
   "outputs": [
    {
     "data": {
      "text/plain": [
       "Text(0.5, 1.0, 'Tenure customer distribution')"
      ]
     },
     "execution_count": 13,
     "metadata": {},
     "output_type": "execute_result"
    },
    {
     "data": {
      "image/png": "[encoded data removed]",
      "text/plain": [
       "<Figure size 432x288 with 1 Axes>"
      ]
     },
     "metadata": {
      "needs_background": "light"
     },
     "output_type": "display_data"
    }
   ],
   "source": [
    "tenure_dist = sns.histplot(churn_df[\"tenure\"], kde=False, kde_kws={'linewidth': 4}, bins=36)\n",
    "tenure_dist.set_ylabel('# of Customers')\n",
    "tenure_dist.set_xlabel('Tenure (in months)')\n",
    "tenure_dist.set_title(\"Tenure customer distribution\")"
   ]
  },
  {
   "cell_type": "markdown",
   "metadata": {},
   "source": [
    "It is noticible that there have been quite many customers for about 1-3 months (approximately), and > 70months. It is also quite notable that every month interval, for the next 2 or so months, it is the highest for that 10th interval. This is most likely due to the contracts of customers, most customers with only 1-3 months tenure likely because of the month-to-month contract, the increase of customers after 2 or so months every 10th interval was likely due to the one-year and two-year contracts (12/24-month interval)"
   ]
  },
  {
   "cell_type": "markdown",
   "metadata": {},
   "source": [
    "1.ii) Comparing number of customers by their tenure, among the 3 different contracts "
   ]
  },
  {
   "cell_type": "code",
   "execution_count": 14,
   "metadata": {},
   "outputs": [
    {
     "name": "stderr",
     "output_type": "stream",
     "text": [
      "c:\\Users\\addsw\\AppData\\Local\\Programs\\Python\\Python39\\lib\\site-packages\\seaborn\\distributions.py:2619: FutureWarning: `distplot` is a deprecated function and will be removed in a future version. Please adapt your code to use either `displot` (a figure-level function with similar flexibility) or `histplot` (an axes-level function for histograms).\n",
      "  warnings.warn(msg, FutureWarning)\n"
     ]
    },
    {
     "data": {
      "text/plain": [
       "Text(0.5, 1.0, 'Two Year Contract')"
      ]
     },
     "execution_count": 14,
     "metadata": {},
     "output_type": "execute_result"
    },
    {
     "data": {
      "image/png": "[encoded data removed]",
      "text/plain": [
       "<Figure size 1440x432 with 3 Axes>"
      ]
     },
     "metadata": {
      "needs_background": "light"
     },
     "output_type": "display_data"
    }
   ],
   "source": [
    "# initialize figure\n",
    "fig, (ax1,ax2,ax3) = plt.subplots(nrows=1, ncols=3, sharey = True, figsize = (20,6))\n",
    "\n",
    "ax = sns.distplot(churn_df[churn_df['Contract']=='Month-to-month']['tenure'],\n",
    "                   hist=True, kde=False,\n",
    "                   bins=int(180/5), color = 'cyan',\n",
    "                   hist_kws={'edgecolor':'black'},\n",
    "                   kde_kws={'linewidth': 4},\n",
    "                 ax=ax1)\n",
    "ax.set_ylabel('# of Customers')\n",
    "ax.set_xlabel('Tenure (months)')\n",
    "ax.set_title('Month to Month Contract')\n",
    "\n",
    "\n",
    "ax = sns.distplot(churn_df[churn_df['Contract']=='One year']['tenure'],\n",
    "                   hist=True, kde=False,\n",
    "                   bins=int(180/5), color = 'blue',\n",
    "                   hist_kws={'edgecolor':'black'},\n",
    "                   kde_kws={'linewidth': 4},\n",
    "                 ax=ax2)\n",
    "ax.set_xlabel('Tenure (months)',size = 14)\n",
    "ax.set_title('One Year Contract',size = 14)\n",
    "\n",
    "ax = sns.distplot(churn_df[churn_df['Contract']=='Two year']['tenure'],\n",
    "                   hist=True, kde=False,\n",
    "                   bins=int(180/5), color = 'darkblue',\n",
    "                   hist_kws={'edgecolor':'black'},\n",
    "                   kde_kws={'linewidth': 4},\n",
    "                 ax=ax3)\n",
    "\n",
    "ax.set_xlabel('Tenure (months)')\n",
    "ax.set_title('Two Year Contract')"
   ]
  },
  {
   "cell_type": "markdown",
   "metadata": {},
   "source": [
    "Distribution of customers among contracts:\n",
    "- Most customers opted for the month to month contract\n",
    "- The one year and two year contract have around the same number of people opted\n",
    "<br><br>\n",
    "Majority of customers who signed up for month-to-month contract stayed with the company for 1-3 months, while most of the customers with 2 year contracts tend to last for more than about 65 to 70 months, even though 2 year contracts are only 24 months long, which implies that customers are more likely to recontract with telecom X, compared to one year contract and month-to-month contract."
   ]
  },
  {
   "cell_type": "markdown",
   "metadata": {},
   "source": [
    "1.iii) Trend between tenure and the number of services a customer subscribed"
   ]
  },
  {
   "cell_type": "code",
   "execution_count": 15,
   "metadata": {},
   "outputs": [
    {
     "data": {
      "text/plain": [
       "['PhoneService',\n",
       " 'MultipleLines',\n",
       " 'InternetService',\n",
       " 'OnlineSecurity',\n",
       " 'OnlineBackup',\n",
       " 'DeviceProtection',\n",
       " 'TechSupport',\n",
       " 'StreamingTV',\n",
       " 'StreamingMovies']"
      ]
     },
     "execution_count": 15,
     "metadata": {},
     "output_type": "execute_result"
    }
   ],
   "source": [
    "# number of services includes\n",
    "cust_services"
   ]
  },
  {
   "cell_type": "code",
   "execution_count": 16,
   "metadata": {},
   "outputs": [
    {
     "data": {
      "text/plain": [
       "Text(0.5, 1.0, 'Tenure by number of services')"
      ]
     },
     "execution_count": 16,
     "metadata": {},
     "output_type": "execute_result"
    },
    {
     "data": {
      "image/png": "[encoded data removed]",
      "text/plain": [
       "<Figure size 864x432 with 1 Axes>"
      ]
     },
     "metadata": {
      "needs_background": "light"
     },
     "output_type": "display_data"
    }
   ],
   "source": [
    "fig, ax1 = plt.subplots(nrows=1, ncols=1, figsize = (12,6))\n",
    "\n",
    "avg_tenure_by_services = [] \n",
    "\n",
    "\n",
    "ax = sns.barplot(x=churn_df[\"Customer Services\"], y=churn_df[\"tenure\"], ax=ax1)\n",
    "ax.set_ylabel('Average Tenure (in months)')\n",
    "ax.set_xlabel('# of services customer subscribed')\n",
    "ax.set_title('Tenure by number of services')"
   ]
  },
  {
   "cell_type": "markdown",
   "metadata": {},
   "source": [
    "Every customer has at least 1 service subscribed\n",
    "<br>\n",
    "The number of services the customer subscribed to generally follows a direct proportion with customer's average tenure in months, with the exception of customers with 3 services subscribed. This means encouraging customers to sign up for more services could increase customer retention with telecom X. "
   ]
  },
  {
   "cell_type": "markdown",
   "metadata": {},
   "source": [
    "### 2. Analysing customer demographics"
   ]
  },
  {
   "cell_type": "markdown",
   "metadata": {},
   "source": [
    "2.i) Distribution of gender and senior citizens in customers"
   ]
  },
  {
   "cell_type": "code",
   "execution_count": 17,
   "metadata": {},
   "outputs": [
    {
     "data": {
      "image/png": "[encoded data removed]",
      "text/plain": [
       "<Figure size 936x648 with 1 Axes>"
      ]
     },
     "metadata": {
      "needs_background": "light"
     },
     "output_type": "display_data"
    }
   ],
   "source": [
    "demographic_df = churn_df.groupby(['SeniorCitizen','gender']).size().unstack()\n",
    "\n",
    "ax_demo = demographic_df.T.plot(kind='bar',width = 0.3, stacked = True, rot = 0, figsize = (13,9))\n",
    "\n",
    "ax_demo.set_ylabel('# of customers')\n",
    "ax_demo.set_title('')\n",
    "ax_demo.legend([\"Not senior citizen\", \"Is senior citizen\"])\n",
    "\n",
    "plt.show()"
   ]
  },
  {
   "cell_type": "markdown",
   "metadata": {},
   "source": [
    "Gender distribution in customers are almost the same (~ 50% for both male and female) <br>\n",
    "Noticibly, both the distribution for senior citizens are also about evenly distributed among both genders <br>\n",
    "Most of our customers are younger people "
   ]
  },
  {
   "cell_type": "markdown",
   "metadata": {},
   "source": [
    "2.ii) Demographic of customers with partners and dependents"
   ]
  },
  {
   "cell_type": "code",
   "execution_count": null,
   "metadata": {},
   "outputs": [],
   "source": []
  },
  {
   "cell_type": "markdown",
   "metadata": {},
   "source": [
    "### 3. Analysing our predictor variable, churn, and relationship with other important variables  "
   ]
  },
  {
   "cell_type": "markdown",
   "metadata": {},
   "source": [
    "3.i) Finding out customer churn rate"
   ]
  },
  {
   "cell_type": "code",
   "execution_count": 18,
   "metadata": {},
   "outputs": [
    {
     "data": {
      "text/plain": [
       "Not Churned    73.421502\n",
       "Churned        26.578498\n",
       "Name: Churn, dtype: float64"
      ]
     },
     "execution_count": 18,
     "metadata": {},
     "output_type": "execute_result"
    }
   ],
   "source": [
    "churn_percentage = churn_df['Churn'].value_counts()*100.0 /len(churn_df)\n",
    "churn_percentage"
   ]
  },
  {
   "cell_type": "markdown",
   "metadata": {},
   "source": [
    "The churn rate is 26.57%, which is a large percentage, considering 1 in every 4 customers leave telecom X. The data could be skewed towards a higher churn rate, when sampling this subset of data. This is important to note as data modelling on a skewed dataset could lead to more false negatives, but we will make do with the data we have"
   ]
  },
  {
   "cell_type": "markdown",
   "metadata": {},
   "source": [
    "3.ii) Relationship between tenure and churn (using boxplot)"
   ]
  },
  {
   "cell_type": "code",
   "execution_count": 19,
   "metadata": {},
   "outputs": [
    {
     "data": {
      "text/plain": [
       "Text(0.5, 1.0, 'Distribution of customers who churn by their tenure')"
      ]
     },
     "execution_count": 19,
     "metadata": {},
     "output_type": "execute_result"
    },
    {
     "data": {
      "image/png": "[encoded data removed]",
      "text/plain": [
       "<Figure size 432x288 with 1 Axes>"
      ]
     },
     "metadata": {
      "needs_background": "light"
     },
     "output_type": "display_data"
    }
   ],
   "source": [
    "sns.boxplot(x = churn_df[\"Churn\"], y = churn_df[\"tenure\"]).set_title(\"Distribution of customers who churn by their tenure\")"
   ]
  },
  {
   "cell_type": "markdown",
   "metadata": {},
   "source": [
    "Customers who did not churn generally stays with telecom X longer, however there are some anomalies among those who churned but has a high tenure with telecom X"
   ]
  },
  {
   "cell_type": "markdown",
   "metadata": {},
   "source": [
    "3.iii) Comparing  churn between senior citizens and the younger people"
   ]
  },
  {
   "cell_type": "code",
   "execution_count": 20,
   "metadata": {},
   "outputs": [
    {
     "data": {
      "text/plain": [
       "Text(0.5, 1.0, 'Comparing churn rate between seniors and young')"
      ]
     },
     "execution_count": 20,
     "metadata": {},
     "output_type": "execute_result"
    },
    {
     "data": {
      "image/png": "[encoded data removed]",
      "text/plain": [
       "<Figure size 720x432 with 1 Axes>"
      ]
     },
     "metadata": {
      "needs_background": "light"
     },
     "output_type": "display_data"
    }
   ],
   "source": [
    "# get percentage between groups\n",
    "seniority_churn = churn_df.groupby(['SeniorCitizen','Churn']).size().unstack()\n",
    "seniority_churn_percentage = seniority_churn.T*100.0 / seniority_churn.T.sum()\n",
    "seniority_churn_percentage = seniority_churn_percentage.T\n",
    "\n",
    "# plot side by side bar graph\n",
    "ax = seniority_churn_percentage.plot(kind = \"bar\", rot=\"30\", figsize = (10,6))\n",
    "for p in ax.patches:\n",
    "    width, height = p.get_width(), p.get_height()\n",
    "    x, y = p.get_xy() \n",
    "    ax.annotate('{:.0f}%'.format(height), (p.get_x()+.25*width, p.get_y()+.4*height), # annotate each bar graph at 40% height\n",
    "                color = 'white',\n",
    "               weight = 'bold',size =14)\n",
    "ax.set_ylabel(\"Customers (in %)\")\n",
    "ax.set_title(\"Comparing churn rate between seniors and young\")"
   ]
  },
  {
   "cell_type": "markdown",
   "metadata": {},
   "source": [
    "A higher percentage of seniors churn from telecom X compared to the younger population, the churn rate for seniors is almost 2x of the churn rate compared to those who are not seniors"
   ]
  },
  {
   "cell_type": "markdown",
   "metadata": {},
   "source": [
    "3.iv) Trends comparing customer monthly charges and total charges with churn using a probability density function  "
   ]
  },
  {
   "cell_type": "code",
   "execution_count": 21,
   "metadata": {},
   "outputs": [
    {
     "data": {
      "text/plain": [
       "Text(0.5, 1.0, 'Distribution of total charges by churn')"
      ]
     },
     "execution_count": 21,
     "metadata": {},
     "output_type": "execute_result"
    },
    {
     "data": {
      "image/png": "[encoded data removed]",
      "text/plain": [
       "<Figure size 1440x432 with 2 Axes>"
      ]
     },
     "metadata": {
      "needs_background": "light"
     },
     "output_type": "display_data"
    }
   ],
   "source": [
    "fig, (ax1,ax2) = plt.subplots(nrows=1, ncols=2, figsize = (20,6))\n",
    "\n",
    "ax = sns.kdeplot(churn_df[\"MonthlyCharges\"][(churn_df[\"Churn\"] == 'Not Churned') ],\n",
    "                ax=ax1, color=\"Red\", shade = True)\n",
    "ax = sns.kdeplot(churn_df[\"MonthlyCharges\"][(churn_df[\"Churn\"] == 'Churned') ],\n",
    "                ax =ax1, color=\"Blue\", shade= True)\n",
    "ax.legend([\"Not Churn\",\"Churn\"])\n",
    "ax.set_ylabel('Probability Density')\n",
    "ax.set_xlabel('Monthly Charges')\n",
    "ax.set_title('Distribution of monthly charges by churn')\n",
    "\n",
    "ax = sns.kdeplot(churn_df[\"TotalCharges\"][(churn_df[\"Churn\"] == 'Not Churned')],\n",
    "                ax=ax2,color=\"Red\", shade =True)\n",
    "ax = sns.kdeplot(churn_df.TotalCharges[(churn_df[\"Churn\"] == 'Churned')],\n",
    "                ax =ax2, color=\"Blue\", shade=True)\n",
    "ax.legend([\"Not Churn\",\"Churn\"],loc='upper right')\n",
    "ax.set_ylabel('Probability Density')\n",
    "ax.set_xlabel('Total Charges')\n",
    "ax.set_title('Distribution of total charges by churn')"
   ]
  },
  {
   "cell_type": "markdown",
   "metadata": {},
   "source": [
    "Generally, for monthly charges, customers who pay a lower monthly charge are more likely to not churn, compared to customers who pay > 70 are more likely to churn <br><br>\n",
    "For total charges, there is not much difference between whether customers will churn or not, however, it is notable that customers who paid < 1700 are more likely to churn, those who did not churn are a little more skewed towards higher total charges compared to those who churned"
   ]
  },
  {
   "cell_type": "markdown",
   "metadata": {},
   "source": [
    "## Data Modelling<br>\n",
    "1. Preparing data for machine learning \n",
    "2. Choosing machine learning models\n",
    "3. Assessing model performance\n",
    "4. Preventing overfitting "
   ]
  },
  {
   "cell_type": "code",
   "execution_count": 22,
   "metadata": {},
   "outputs": [],
   "source": [
    "# import models\n",
    "from sklearn.tree import DecisionTreeClassifier\n",
    "from sklearn.linear_model import LogisticRegression \n",
    "from sklearn.neighbors import KNeighborsClassifier \n",
    "from sklearn.naive_bayes import GaussianNB\n",
    "from sklearn.ensemble import RandomForestClassifier\n",
    "\n",
    "# I will be using mean absolute error as cost function to evaluate the models\n",
    "from sklearn.metrics import mean_absolute_error, accuracy_score\n",
    "\n",
    "from sklearn.model_selection import train_test_split, StratifiedKFold, KFold,cross_val_score\n",
    "\n",
    "# initialize models\n",
    "LR = LogisticRegression(max_iter=2000)\n",
    "DT = DecisionTreeClassifier()\n",
    "KNN = KNeighborsClassifier()\n",
    "NB = GaussianNB()\n",
    "RFC = RandomForestClassifier()\n",
    "\n",
    "stratified_kfold = StratifiedKFold(n_splits=100)\n",
    "kfold = KFold(10)"
   ]
  },
  {
   "cell_type": "markdown",
   "metadata": {},
   "source": [
    "### Features Selection"
   ]
  },
  {
   "cell_type": "markdown",
   "metadata": {},
   "source": [
    "Removing ID column, since it has no meaning, and customer services since it is not mutually exclusive or an independent event (as we added it ourselves previously for EDA)"
   ]
  },
  {
   "cell_type": "code",
   "execution_count": 41,
   "metadata": {},
   "outputs": [],
   "source": [
    "chi_df = churn_df.drop(columns=[\"customerID\", \"Customer Services\"])"
   ]
  },
  {
   "cell_type": "markdown",
   "metadata": {},
   "source": [
    "#### 1. Chi-Square Test<br>\n",
    "Targeting categorical features against categorical predictor"
   ]
  },
  {
   "cell_type": "code",
   "execution_count": 42,
   "metadata": {},
   "outputs": [],
   "source": [
    "from sklearn.preprocessing import LabelEncoder\n",
    "from sklearn.feature_selection import chi2"
   ]
  },
  {
   "cell_type": "markdown",
   "metadata": {},
   "source": [
    "Changing categorical features to a nominal field with each value representing a number, this is needed as chi2 cannot interpret categorical string values"
   ]
  },
  {
   "cell_type": "code",
   "execution_count": 43,
   "metadata": {},
   "outputs": [],
   "source": [
    "label_encoder = LabelEncoder()\n",
    "for i in categorical_features:\n",
    "    chi_df[i] = label_encoder.fit_transform(chi_df[i])\n",
    "\n",
    "y = chi_df[\"Churn\"]\n",
    "X = chi_df.drop([\"Churn\"], axis=1,inplace=False)"
   ]
  },
  {
   "cell_type": "code",
   "execution_count": 44,
   "metadata": {},
   "outputs": [],
   "source": [
    "chi_scores = chi2(X,y)"
   ]
  },
  {
   "cell_type": "code",
   "execution_count": 45,
   "metadata": {},
   "outputs": [],
   "source": [
    "p_values = pd.Series(chi_scores[1],index = X.columns)\n",
    "p_values.sort_values(ascending = False , inplace = True)"
   ]
  },
  {
   "cell_type": "code",
   "execution_count": 46,
   "metadata": {},
   "outputs": [
    {
     "data": {
      "text/plain": [
       "Text(0.5, 0, 'Features')"
      ]
     },
     "execution_count": 46,
     "metadata": {},
     "output_type": "execute_result"
    },
    {
     "data": {
      "image/png": "[encoded data removed]",
      "text/plain": [
       "<Figure size 1080x576 with 1 Axes>"
      ]
     },
     "metadata": {
      "needs_background": "light"
     },
     "output_type": "display_data"
    }
   ],
   "source": [
    "plt.figure(figsize=(15,8))\n",
    "p_values.plot.bar()\n",
    "plt.xticks(rotation= 39)\n",
    "plt.title(\"P-values of features\")\n",
    "plt.ylabel(\"P-Value\")\n",
    "plt.xlabel(\"Features\")"
   ]
  },
  {
   "cell_type": "markdown",
   "metadata": {},
   "source": [
    "As PhoneService and gender has an extremely high P value, I will be removing them as they do not have much statistical significance towards whether the customer will churn. "
   ]
  },
  {
   "cell_type": "code",
   "execution_count": 47,
   "metadata": {},
   "outputs": [],
   "source": [
    "modelling_df = churn_df.drop(columns= [\"customerID\", \"PhoneService\", \"gender\", \"Customer Services\"])"
   ]
  },
  {
   "cell_type": "markdown",
   "metadata": {},
   "source": [
    "Since Churn is our predictor variable, converting it to a binary numeric variable "
   ]
  },
  {
   "cell_type": "code",
   "execution_count": 48,
   "metadata": {},
   "outputs": [],
   "source": [
    "modelling_df['Churn'].replace(to_replace='Churned', value=1, inplace=True)\n",
    "modelling_df['Churn'].replace(to_replace='Not Churned',  value=0, inplace=True)"
   ]
  },
  {
   "cell_type": "markdown",
   "metadata": {},
   "source": [
    "#### Handling categorical values\n",
    "\n",
    "The machine learning models I will be using are unable to handle categorical value, I will be using label encoding - for columns with only yes/no values, and one-hot encoding for the rest of the categorical features "
   ]
  },
  {
   "cell_type": "code",
   "execution_count": 53,
   "metadata": {},
   "outputs": [
    {
     "name": "stdout",
     "output_type": "stream",
     "text": [
      "Partner: [1 0]\n",
      "Dependents: [0 1]\n",
      "tenure: [-1.28024804  0.06430269 -1.23950408  0.51248626 -0.99504031 -0.42462485\n",
      " -0.91355239 -0.18016108  1.2051336  -0.7913205  -0.66908862  1.04215776\n",
      "  0.6754621  -0.30239297  1.49034133  0.79769399  1.57182925 -0.46536881\n",
      " -0.83206446 -0.09867316  0.59397418  1.61257321 -0.62834466 -0.22090504\n",
      " -1.11727219  0.55323022 -0.87280842  1.53108529  1.24587756  0.43099834\n",
      " -0.70983258  1.12364568 -0.5876007   1.36810945 -0.95429635 -1.19876011\n",
      " -0.0579292   0.71620607  1.28662152  0.96066983 -1.03578427  0.39025438\n",
      "  0.10504665  0.63471814 -0.13941712  1.32736548  0.22727853  1.44959737\n",
      " -0.01718524  0.91992587  0.18653457  0.14579061  0.34951041 -1.07652823\n",
      " -1.15801615  0.02355872  1.40885341 -0.38388089  1.00141379  1.16438964\n",
      " -0.75057654 -0.50611277  0.83843795  0.30876645  1.08290172 -0.34313693\n",
      "  0.4717423  -0.54685673  0.87918191  0.75695003 -0.26164901  0.26802249]\n",
      "MultipleLines: [0 1]\n",
      "OnlineSecurity: [0 1]\n",
      "OnlineBackup: [1 0]\n",
      "DeviceProtection: [0 1]\n",
      "TechSupport: [0 1]\n",
      "StreamingTV: [0 1]\n",
      "StreamingMovies: [0 1]\n",
      "PaperlessBilling: [1 0]\n",
      "MonthlyCharges: [-1.16169394 -0.26087792 -0.36392329 ... -0.05644919 -0.68469357\n",
      "  0.46210172]\n",
      "TotalCharges: [-0.99419409 -0.17373982 -0.95964911 ... -0.85451414 -0.87209546\n",
      "  2.01234407]\n",
      "Churn: [0 1]\n",
      "SeniorCitizen_Not Senior: [1 0]\n",
      "SeniorCitizen_Senior: [0 1]\n",
      "InternetService_DSL: [1 0]\n",
      "InternetService_Fiber optic: [0 1]\n",
      "InternetService_No: [0 1]\n",
      "Contract_Month-to-month: [1 0]\n",
      "Contract_One year: [0 1]\n",
      "Contract_Two year: [0 1]\n",
      "PaymentMethod_Bank transfer (automatic): [0 1]\n",
      "PaymentMethod_Credit card (automatic): [0 1]\n",
      "PaymentMethod_Electronic check: [1 0]\n",
      "PaymentMethod_Mailed check: [0 1]\n"
     ]
    }
   ],
   "source": [
    "for column in modelling_df:\n",
    "    print(f'{column}: {modelling_df[column].unique()}') "
   ]
  },
  {
   "cell_type": "code",
   "execution_count": 51,
   "metadata": {},
   "outputs": [],
   "source": [
    "# label encoding for yes/no columns\n",
    "for i in ['OnlineSecurity','OnlineBackup','DeviceProtection','TechSupport','StreamingTV','MultipleLines','StreamingMovies', 'Partner', 'Dependents', 'PaperlessBilling']:\n",
    "    modelling_df[i] = label_encoder.fit_transform(modelling_df[i])"
   ]
  },
  {
   "cell_type": "code",
   "execution_count": 52,
   "metadata": {},
   "outputs": [
    {
     "data": {
      "text/html": [
       "<div>\n",
       "<style scoped>\n",
       "    .dataframe tbody tr th:only-of-type {\n",
       "        vertical-align: middle;\n",
       "    }\n",
       "\n",
       "    .dataframe tbody tr th {\n",
       "        vertical-align: top;\n",
       "    }\n",
       "\n",
       "    .dataframe thead th {\n",
       "        text-align: right;\n",
       "    }\n",
       "</style>\n",
       "<table border=\"1\" class=\"dataframe\">\n",
       "  <thead>\n",
       "    <tr style=\"text-align: right;\">\n",
       "      <th></th>\n",
       "      <th>Partner</th>\n",
       "      <th>Dependents</th>\n",
       "      <th>tenure</th>\n",
       "      <th>MultipleLines</th>\n",
       "      <th>OnlineSecurity</th>\n",
       "      <th>OnlineBackup</th>\n",
       "      <th>DeviceProtection</th>\n",
       "      <th>TechSupport</th>\n",
       "      <th>StreamingTV</th>\n",
       "      <th>StreamingMovies</th>\n",
       "      <th>...</th>\n",
       "      <th>InternetService_DSL</th>\n",
       "      <th>InternetService_Fiber optic</th>\n",
       "      <th>InternetService_No</th>\n",
       "      <th>Contract_Month-to-month</th>\n",
       "      <th>Contract_One year</th>\n",
       "      <th>Contract_Two year</th>\n",
       "      <th>PaymentMethod_Bank transfer (automatic)</th>\n",
       "      <th>PaymentMethod_Credit card (automatic)</th>\n",
       "      <th>PaymentMethod_Electronic check</th>\n",
       "      <th>PaymentMethod_Mailed check</th>\n",
       "    </tr>\n",
       "  </thead>\n",
       "  <tbody>\n",
       "    <tr>\n",
       "      <th>0</th>\n",
       "      <td>1</td>\n",
       "      <td>0</td>\n",
       "      <td>-1.280248</td>\n",
       "      <td>0</td>\n",
       "      <td>0</td>\n",
       "      <td>1</td>\n",
       "      <td>0</td>\n",
       "      <td>0</td>\n",
       "      <td>0</td>\n",
       "      <td>0</td>\n",
       "      <td>...</td>\n",
       "      <td>1</td>\n",
       "      <td>0</td>\n",
       "      <td>0</td>\n",
       "      <td>1</td>\n",
       "      <td>0</td>\n",
       "      <td>0</td>\n",
       "      <td>0</td>\n",
       "      <td>0</td>\n",
       "      <td>1</td>\n",
       "      <td>0</td>\n",
       "    </tr>\n",
       "    <tr>\n",
       "      <th>1</th>\n",
       "      <td>0</td>\n",
       "      <td>0</td>\n",
       "      <td>0.064303</td>\n",
       "      <td>0</td>\n",
       "      <td>1</td>\n",
       "      <td>0</td>\n",
       "      <td>1</td>\n",
       "      <td>0</td>\n",
       "      <td>0</td>\n",
       "      <td>0</td>\n",
       "      <td>...</td>\n",
       "      <td>1</td>\n",
       "      <td>0</td>\n",
       "      <td>0</td>\n",
       "      <td>0</td>\n",
       "      <td>1</td>\n",
       "      <td>0</td>\n",
       "      <td>0</td>\n",
       "      <td>0</td>\n",
       "      <td>0</td>\n",
       "      <td>1</td>\n",
       "    </tr>\n",
       "    <tr>\n",
       "      <th>2</th>\n",
       "      <td>0</td>\n",
       "      <td>0</td>\n",
       "      <td>-1.239504</td>\n",
       "      <td>0</td>\n",
       "      <td>1</td>\n",
       "      <td>1</td>\n",
       "      <td>0</td>\n",
       "      <td>0</td>\n",
       "      <td>0</td>\n",
       "      <td>0</td>\n",
       "      <td>...</td>\n",
       "      <td>1</td>\n",
       "      <td>0</td>\n",
       "      <td>0</td>\n",
       "      <td>1</td>\n",
       "      <td>0</td>\n",
       "      <td>0</td>\n",
       "      <td>0</td>\n",
       "      <td>0</td>\n",
       "      <td>0</td>\n",
       "      <td>1</td>\n",
       "    </tr>\n",
       "    <tr>\n",
       "      <th>3</th>\n",
       "      <td>0</td>\n",
       "      <td>0</td>\n",
       "      <td>0.512486</td>\n",
       "      <td>0</td>\n",
       "      <td>1</td>\n",
       "      <td>0</td>\n",
       "      <td>1</td>\n",
       "      <td>1</td>\n",
       "      <td>0</td>\n",
       "      <td>0</td>\n",
       "      <td>...</td>\n",
       "      <td>1</td>\n",
       "      <td>0</td>\n",
       "      <td>0</td>\n",
       "      <td>0</td>\n",
       "      <td>1</td>\n",
       "      <td>0</td>\n",
       "      <td>1</td>\n",
       "      <td>0</td>\n",
       "      <td>0</td>\n",
       "      <td>0</td>\n",
       "    </tr>\n",
       "    <tr>\n",
       "      <th>4</th>\n",
       "      <td>0</td>\n",
       "      <td>0</td>\n",
       "      <td>-1.239504</td>\n",
       "      <td>0</td>\n",
       "      <td>0</td>\n",
       "      <td>0</td>\n",
       "      <td>0</td>\n",
       "      <td>0</td>\n",
       "      <td>0</td>\n",
       "      <td>0</td>\n",
       "      <td>...</td>\n",
       "      <td>0</td>\n",
       "      <td>1</td>\n",
       "      <td>0</td>\n",
       "      <td>1</td>\n",
       "      <td>0</td>\n",
       "      <td>0</td>\n",
       "      <td>0</td>\n",
       "      <td>0</td>\n",
       "      <td>1</td>\n",
       "      <td>0</td>\n",
       "    </tr>\n",
       "  </tbody>\n",
       "</table>\n",
       "<p>5 rows × 26 columns</p>\n",
       "</div>"
      ],
      "text/plain": [
       "   Partner  Dependents    tenure  MultipleLines  OnlineSecurity  OnlineBackup  \\\n",
       "0        1           0 -1.280248              0               0             1   \n",
       "1        0           0  0.064303              0               1             0   \n",
       "2        0           0 -1.239504              0               1             1   \n",
       "3        0           0  0.512486              0               1             0   \n",
       "4        0           0 -1.239504              0               0             0   \n",
       "\n",
       "   DeviceProtection  TechSupport  StreamingTV  StreamingMovies  ...  \\\n",
       "0                 0            0            0                0  ...   \n",
       "1                 1            0            0                0  ...   \n",
       "2                 0            0            0                0  ...   \n",
       "3                 1            1            0                0  ...   \n",
       "4                 0            0            0                0  ...   \n",
       "\n",
       "   InternetService_DSL  InternetService_Fiber optic  InternetService_No  \\\n",
       "0                    1                            0                   0   \n",
       "1                    1                            0                   0   \n",
       "2                    1                            0                   0   \n",
       "3                    1                            0                   0   \n",
       "4                    0                            1                   0   \n",
       "\n",
       "   Contract_Month-to-month  Contract_One year  Contract_Two year  \\\n",
       "0                        1                  0                  0   \n",
       "1                        0                  1                  0   \n",
       "2                        1                  0                  0   \n",
       "3                        0                  1                  0   \n",
       "4                        1                  0                  0   \n",
       "\n",
       "   PaymentMethod_Bank transfer (automatic)  \\\n",
       "0                                        0   \n",
       "1                                        0   \n",
       "2                                        0   \n",
       "3                                        1   \n",
       "4                                        0   \n",
       "\n",
       "   PaymentMethod_Credit card (automatic)  PaymentMethod_Electronic check  \\\n",
       "0                                      0                               1   \n",
       "1                                      0                               0   \n",
       "2                                      0                               0   \n",
       "3                                      0                               0   \n",
       "4                                      0                               1   \n",
       "\n",
       "   PaymentMethod_Mailed check  \n",
       "0                           0  \n",
       "1                           1  \n",
       "2                           1  \n",
       "3                           0  \n",
       "4                           0  \n",
       "\n",
       "[5 rows x 26 columns]"
      ]
     },
     "execution_count": 52,
     "metadata": {},
     "output_type": "execute_result"
    }
   ],
   "source": [
    "modelling_df = pd.get_dummies(modelling_df)\n",
    "modelling_df.head()"
   ]
  },
  {
   "cell_type": "markdown",
   "metadata": {},
   "source": [
    "However, our categorical values remain and we are unable to compare correlation with each other <br>\n",
    "Using one-hot encoding, we are able to represent our categorical values numerically and most importantly on the same scale, 0 or 1"
   ]
  },
  {
   "cell_type": "markdown",
   "metadata": {},
   "source": [
    "#### Compare correlation with other variables in respect to Churn"
   ]
  },
  {
   "cell_type": "code",
   "execution_count": 277,
   "metadata": {},
   "outputs": [
    {
     "data": {
      "text/plain": [
       "<AxesSubplot:>"
      ]
     },
     "execution_count": 277,
     "metadata": {},
     "output_type": "execute_result"
    },
    {
     "data": {
      "image/png": "[encoded data removed]",
      "text/plain": [
       "<Figure size 1224x576 with 1 Axes>"
      ]
     },
     "metadata": {
      "needs_background": "light"
     },
     "output_type": "display_data"
    }
   ],
   "source": [
    "#Get Correlation of \"Churn\" with other variables:\n",
    "plt.figure(figsize=(17,8))\n",
    "modelling_df.corr()['Churn'].sort_values(ascending = False).plot(kind='bar')"
   ]
  },
  {
   "cell_type": "markdown",
   "metadata": {},
   "source": [
    "HoldOut Validation Approach     "
   ]
  },
  {
   "cell_type": "code",
   "execution_count": 1,
   "metadata": {},
   "outputs": [
    {
     "ename": "NameError",
     "evalue": "name 'modelling_df' is not defined",
     "output_type": "error",
     "traceback": [
      "\u001b[1;31m---------------------------------------------------------------------------\u001b[0m",
      "\u001b[1;31mNameError\u001b[0m                                 Traceback (most recent call last)",
      "\u001b[1;32me:\\Submissions\\MLDP\\MLDP Individual Project\\MLDP_data_cleaning.ipynb Cell 82\u001b[0m in \u001b[0;36m<cell line: 1>\u001b[1;34m()\u001b[0m\n\u001b[1;32m----> <a href='vscode-notebook-cell:/e%3A/Submissions/MLDP/MLDP%20Individual%20Project/MLDP_data_cleaning.ipynb#ch0000085?line=0'>1</a>\u001b[0m y \u001b[39m=\u001b[39m modelling_df[\u001b[39m\"\u001b[39m\u001b[39mChurn\u001b[39m\u001b[39m\"\u001b[39m]\n\u001b[0;32m      <a href='vscode-notebook-cell:/e%3A/Submissions/MLDP/MLDP%20Individual%20Project/MLDP_data_cleaning.ipynb#ch0000085?line=1'>2</a>\u001b[0m X \u001b[39m=\u001b[39m modelling_df\u001b[39m.\u001b[39mdrop([\u001b[39m\"\u001b[39m\u001b[39mChurn\u001b[39m\u001b[39m\"\u001b[39m], axis\u001b[39m=\u001b[39m\u001b[39m1\u001b[39m,inplace\u001b[39m=\u001b[39m\u001b[39mFalse\u001b[39;00m)\n\u001b[0;32m      <a href='vscode-notebook-cell:/e%3A/Submissions/MLDP/MLDP%20Individual%20Project/MLDP_data_cleaning.ipynb#ch0000085?line=2'>3</a>\u001b[0m X_train, X_test, y_train, y_test \u001b[39m=\u001b[39m train_test_split(X, y, test_size\u001b[39m=\u001b[39m\u001b[39m0.30\u001b[39m, random_state\u001b[39m=\u001b[39m\u001b[39m42\u001b[39m, stratify\u001b[39m=\u001b[39my)\n",
      "\u001b[1;31mNameError\u001b[0m: name 'modelling_df' is not defined"
     ]
    }
   ],
   "source": [
    "y = modelling_df[\"Churn\"].to_numpy()\n",
    "X = modelling_df.drop([\"Churn\"], axis=1,inplace=False).to_numpy()\n",
    "X_train, X_test, y_train, y_test = train_test_split(X, y, test_size=0.30, random_state=42, stratify=y)"
   ]
  },
  {
   "cell_type": "code",
   "execution_count": 281,
   "metadata": {},
   "outputs": [
    {
     "name": "stdout",
     "output_type": "stream",
     "text": [
      "0.8044567404426559\n"
     ]
    }
   ],
   "source": [
    "scores = cross_val_score(LR, X, y, cv=stratified_kfold)\n",
    "print(np.mean(scores))"
   ]
  },
  {
   "cell_type": "markdown",
   "metadata": {},
   "source": [
    "#### Scaling numerical data\n",
    "Scale the data to prevent introducing bias to certain features with higher values and set numerical features on the same scale<br>\n",
    "Since machine learning algorithms used later like logistic regression uses gradient descent, which iteratively calculates distance between datapoints"
   ]
  },
  {
   "cell_type": "code",
   "execution_count": 58,
   "metadata": {},
   "outputs": [],
   "source": [
    "from sklearn.preprocessing import StandardScaler, MinMaxScaler\n",
    "standardization = StandardScaler()\n",
    "normalization = MinMaxScaler()\n",
    "\n",
    "tree_df = modelling_df.copy(deep=True) # tree_df will be used for tree based algorithms\n",
    "X[num_features] = scaler.fit_transform(modelling_df[num_features])"
   ]
  },
  {
   "cell_type": "markdown",
   "metadata": {},
   "source": [
    "tree_df will not be scaled since tree-based algorithms are insensitive to the scale of features"
   ]
  },
  {
   "cell_type": "markdown",
   "metadata": {},
   "source": [
    "Model Selection: a form of naive bayes, logistic regression, K-nearest neighbours, random forest classifier & decision trees"
   ]
  },
  {
   "cell_type": "code",
   "execution_count": 164,
   "metadata": {},
   "outputs": [
    {
     "name": "stdout",
     "output_type": "stream",
     "text": [
      "Mean absolute error of Logistic Regression: 0.20568720379146918\n",
      "0.7943127962085308\n",
      "Mean absolute error of Logistic Regression: 0.26919431279620853\n",
      "Mean absolute error of Logistic Regression: 0.2127962085308057\n",
      "Mean absolute error of Logistic Regression: 0.2502369668246445\n",
      "Mean absolute error of Logistic Regression: 0.21990521327014217\n"
     ]
    }
   ],
   "source": [
    "LR.fit(X_train, y_train)\n",
    "LR_mae = mean_absolute_error(y_test, LR.predict(X_test))\n",
    "print(f\"Mean absolute error of Logistic Regression: {LR_mae}\")\n",
    "predicted = LR.predict(X_test)\n",
    "print(accuracy_score(y_true=y_test,y_pred=predicted))\n",
    "\n",
    "DT.fit(X_train, y_train)\n",
    "DT_mae = mean_absolute_error(y_test, DT.predict(X_test))\n",
    "print(f\"Mean absolute error of Logistic Regression: {DT_mae}\")\n",
    "\n",
    "KNN.fit(X_train, y_train)\n",
    "KNC_mae = mean_absolute_error(y_test, KNN.predict(X_test))\n",
    "print(f\"Mean absolute error of Logistic Regression: {KNC_mae}\")\n",
    "\n",
    "NB.fit(X_train, y_train)\n",
    "NB_mae = mean_absolute_error(y_test, NB.predict(X_test))\n",
    "print(f\"Mean absolute error of Logistic Regression: {NB_mae}\")\n",
    "\n",
    "RFC.fit(X_train, y_train)\n",
    "RFC_mae = mean_absolute_error(y_test, RFC.predict(X_test))\n",
    "print(f\"Mean absolute error of Logistic Regression: {RFC_mae}\")"
   ]
  },
  {
   "cell_type": "code",
   "execution_count": 61,
   "metadata": {},
   "outputs": [
    {
     "name": "stdout",
     "output_type": "stream",
     "text": [
      "precision: [0.84046455 0.63291139]\n",
      "recall: [0.88766946 0.53475936]\n",
      "fscore: [0.86342229 0.57971014]\n",
      "support: [1549  561]\n"
     ]
    }
   ],
   "source": [
    "from sklearn.metrics import precision_recall_fscore_support as score\n",
    "\n",
    "predicted = LR.predict(X_test)\n",
    "\n",
    "precision, recall, fscore, support = score(y_true= y_test, y_pred= predicted)\n",
    "\n",
    "print('precision: {}'.format(precision))\n",
    "print('recall: {}'.format(recall))\n",
    "print('fscore: {}'.format(fscore))\n",
    "print('support: {}'.format(support))"
   ]
  },
  {
   "cell_type": "code",
   "execution_count": null,
   "metadata": {},
   "outputs": [],
   "source": [
    "# confusion matrix \n",
    "from sklearn.metrics import confusion_matrix\n",
    "print(confusion_matrix(y_test, y_pred))"
   ]
  },
  {
   "cell_type": "markdown",
   "metadata": {},
   "source": [
    "#### K-Nearest Neighbours"
   ]
  },
  {
   "cell_type": "markdown",
   "metadata": {},
   "source": [
    "As there are no straightforward 'theoretical' way of picking the best number of n_neighbours (or 'k'), I will use a brute-force approach and evaluate both the training and testing accuracies to determine which is best"
   ]
  },
  {
   "cell_type": "code",
   "execution_count": 149,
   "metadata": {},
   "outputs": [],
   "source": [
    "train_accuracies = {}\n",
    "test_accuracies = {}\n",
    "neighbors=np.arange(1,35)\n",
    "for neighbor in neighbors:\n",
    "    knn=KNeighborsClassifier(n_neighbors = neighbor)\n",
    "    knn.fit(X_train,y_train)\n",
    "    train_accuracies[neighbor]=knn.score(X_train,y_train)\n",
    "    test_accuracies[neighbor]=knn.score(X_test,y_test)"
   ]
  },
  {
   "cell_type": "markdown",
   "metadata": {},
   "source": [
    "Visualize test and training accuracies for hyperparameter tuning of n_neigbours in knn"
   ]
  },
  {
   "cell_type": "code",
   "execution_count": 150,
   "metadata": {},
   "outputs": [
    {
     "data": {
      "image/png": "[encoded data removed]",
      "text/plain": [
       "<Figure size 576x432 with 1 Axes>"
      ]
     },
     "metadata": {
      "needs_background": "light"
     },
     "output_type": "display_data"
    }
   ],
   "source": [
    "plt.figure(figsize=(8,6))\n",
    "plt.title(\"KNN:Varying Number of Neighbors\")\n",
    "plt.plot(neighbors,train_accuracies.values(), label=\"Training Accuracy\")\n",
    "plt.plot(neighbors,test_accuracies.values(),label=\"Testing Accuracy\")\n",
    "plt.legend()\n",
    "plt.xlabel(\"Number of Neighbors\")\n",
    "plt.ylabel(\"Accuracy\")\n",
    "plt.show()"
   ]
  },
  {
   "cell_type": "code",
   "execution_count": 151,
   "metadata": {},
   "outputs": [
    {
     "name": "stdout",
     "output_type": "stream",
     "text": [
      "(20, 0.7872037914691943)\n"
     ]
    }
   ],
   "source": [
    "print(max(test_accuracies.items(), key=lambda x : x[1]))"
   ]
  },
  {
   "cell_type": "code",
   "execution_count": 136,
   "metadata": {},
   "outputs": [
    {
     "name": "stdout",
     "output_type": "stream",
     "text": [
      "Percentage of customers who DID NOT churn: 73.42150170648463\n",
      "Accuracy of KNN when there are only 1 neighbour: 71.4218009478673%\n"
     ]
    }
   ],
   "source": [
    "print(f\"Percentage of customers who DID NOT churn: {modelling_df.Churn.value_counts()[0] / modelling_df.Churn.value_counts().sum() * 100}\\nAccuracy of KNN when there are only 1 neighbour: {test_accuracies.get(1) * 100}%\")"
   ]
  },
  {
   "cell_type": "markdown",
   "metadata": {},
   "source": [
    "Although there are only 1 neighbour, the accuracy is still quite high, this could be due to the case of an imbalanced dataset in the churn column where the ratio of customers who churn and did not churn are around 27:73, which would explain why the accuracy despite having 1 neighbour almost fits the ratio of customers who churn or did not churn\n",
    "<br><br>\n",
    "Therefore, it would be wise to use another metric other than accuracy to evaluate model performance, however in this case I will be comparing accuracy to detect where overfitting starts to occur"
   ]
  },
  {
   "cell_type": "markdown",
   "metadata": {},
   "source": [
    "From the training and test accuracy for K-Nearest Neighbours, the test accuracy starts  "
   ]
  },
  {
   "cell_type": "markdown",
   "metadata": {},
   "source": [
    "#### Logistic Regression"
   ]
  },
  {
   "cell_type": "code",
   "execution_count": 137,
   "metadata": {},
   "outputs": [],
   "source": [
    "LR.fit(X_train,y_train)\n",
    "LR_y_pred = LR.predict(X_test)\n",
    "y_pred_probs = LR.predict_proba(X_test)[:,1]"
   ]
  },
  {
   "cell_type": "code",
   "execution_count": 138,
   "metadata": {},
   "outputs": [
    {
     "data": {
      "image/png": "[encoded data removed]",
      "text/plain": [
       "<Figure size 432x288 with 1 Axes>"
      ]
     },
     "metadata": {
      "needs_background": "light"
     },
     "output_type": "display_data"
    }
   ],
   "source": [
    "from sklearn.metrics import roc_curve, roc_auc_score\n",
    "# false positive rates - fpr, true positive rates - tpr\n",
    "fpr, tpr, thresholds = roc_curve(y_test, y_pred_probs)\n",
    "plt.plot([0,1],[0,1],'k--')\n",
    "plt.plot(fpr,tpr)\n",
    "plt.xlabel('False Positive Rate')\n",
    "plt.ylabel('True Positive Rate')\n",
    "plt.title('Logistic Regression ROC Curve')\n",
    "plt.show()"
   ]
  },
  {
   "cell_type": "code",
   "execution_count": 139,
   "metadata": {},
   "outputs": [
    {
     "name": "stdout",
     "output_type": "stream",
     "text": [
      "0.8386671177655874\n"
     ]
    }
   ],
   "source": [
    "from sklearn.metrics import roc_auc_score\n",
    "print(roc_auc_score(y_test,y_pred_probs))"
   ]
  },
  {
   "cell_type": "code",
   "execution_count": 143,
   "metadata": {},
   "outputs": [
    {
     "name": "stdout",
     "output_type": "stream",
     "text": [
      "Tuned Logistic Regression Parameters: {'tol': 0.12253673469387756, 'penalty': 'l2', 'class_weight': 'balanced', 'C': 0.19183673469387758}\n",
      "Tuned Logistic Regression Best Accuracy Score: 0.7492884117482148\n"
     ]
    },
    {
     "name": "stderr",
     "output_type": "stream",
     "text": [
      "c:\\Users\\addsw\\AppData\\Local\\Programs\\Python\\Python39\\lib\\site-packages\\sklearn\\model_selection\\_validation.py:372: FitFailedWarning: \n",
      "60 fits failed out of a total of 100.\n",
      "The score on these train-test partitions for these parameters will be set to nan.\n",
      "If these failures are not expected, you can try to debug them by setting error_score='raise'.\n",
      "\n",
      "Below are more details about the failures:\n",
      "--------------------------------------------------------------------------------\n",
      "60 fits failed with the following error:\n",
      "Traceback (most recent call last):\n",
      "  File \"c:\\Users\\addsw\\AppData\\Local\\Programs\\Python\\Python39\\lib\\site-packages\\sklearn\\model_selection\\_validation.py\", line 680, in _fit_and_score\n",
      "    estimator.fit(X_train, y_train, **fit_params)\n",
      "  File \"c:\\Users\\addsw\\AppData\\Local\\Programs\\Python\\Python39\\lib\\site-packages\\sklearn\\linear_model\\_logistic.py\", line 1461, in fit\n",
      "    solver = _check_solver(self.solver, self.penalty, self.dual)\n",
      "  File \"c:\\Users\\addsw\\AppData\\Local\\Programs\\Python\\Python39\\lib\\site-packages\\sklearn\\linear_model\\_logistic.py\", line 447, in _check_solver\n",
      "    raise ValueError(\n",
      "ValueError: Solver lbfgs supports only 'l2' or 'none' penalties, got l1 penalty.\n",
      "\n",
      "  warnings.warn(some_fits_failed_message, FitFailedWarning)\n",
      "c:\\Users\\addsw\\AppData\\Local\\Programs\\Python\\Python39\\lib\\site-packages\\sklearn\\model_selection\\_search.py:969: UserWarning: One or more of the test scores are non-finite: [       nan        nan        nan 0.74928841        nan 0.74908598\n",
      "        nan 0.74238361 0.7419767         nan]\n",
      "  warnings.warn(\n"
     ]
    }
   ],
   "source": [
    "# hyperparameter tuning\n",
    "from sklearn.model_selection import RandomizedSearchCV\n",
    "# Create the parameter space\n",
    "params = {\"penalty\": [\"l1\", \"l2\"],\n",
    "         \"tol\": np.linspace(0.0001, 1.0, 50),\n",
    "         \"C\": np.linspace(0.1, 1.0, 50),\n",
    "         \"class_weight\": [\"balanced\", {0:0.8, 1:0.2}]}\n",
    "\n",
    "# Instantiate the RandomizedSearchCV object\n",
    "logreg_cv = RandomizedSearchCV(LR, params, cv= kfold)\n",
    "\n",
    "# Fit the data to the model\n",
    "logreg_cv.fit(X_train, y_train)\n",
    "\n",
    "# Print the tuned parameters and score\n",
    "print(\"Tuned Logistic Regression Parameters: {}\".format(logreg_cv.best_params_))\n",
    "print(\"Tuned Logistic Regression Best Accuracy Score: {}\".format(logreg_cv.best_score_))"
   ]
  },
  {
   "cell_type": "code",
   "execution_count": 282,
   "metadata": {},
   "outputs": [],
   "source": [
    "import sklearn.naive_bayes as NB"
   ]
  },
  {
   "cell_type": "code",
   "execution_count": 295,
   "metadata": {},
   "outputs": [
    {
     "data": {
      "text/plain": [
       "0.7587677725118483"
      ]
     },
     "execution_count": 295,
     "metadata": {},
     "output_type": "execute_result"
    }
   ],
   "source": [
    "bernNB = NB.BernoulliNB() \n",
    "bernNB.fit(X_train, y_train)\n",
    "bernNB.score(X_test, y_test)"
   ]
  },
  {
   "cell_type": "code",
   "execution_count": 285,
   "metadata": {},
   "outputs": [
    {
     "data": {
      "text/plain": [
       "0.7597156398104266"
      ]
     },
     "execution_count": 285,
     "metadata": {},
     "output_type": "execute_result"
    }
   ],
   "source": [
    "catNB = NB.CategoricalNB() \n",
    "catNB.fit(X_train, y_train)\n",
    "catNB.score(X_test, y_test)"
   ]
  },
  {
   "cell_type": "code",
   "execution_count": 66,
   "metadata": {},
   "outputs": [],
   "source": [
    "from sklearn.model_selection import learning_curve\n",
    "from sklearn.preprocessing import LabelEncoder, StandardScaler\n",
    "from sklearn.model_selection import StratifiedKFold, cross_val_score\n",
    "from sklearn.pipeline import Pipeline"
   ]
  },
  {
   "cell_type": "code",
   "execution_count": 68,
   "metadata": {},
   "outputs": [],
   "source": [
    "# def learn_curve(X,y,c):\n",
    "#     le = LabelEncoder() # Label encoding the target\n",
    "#     sc = StandardScaler() # Scaling the input features\n",
    "#     y = le.fit_transform(y)#Label Encoding the target\n",
    "#     log_reg = LogisticRegression(max_iter=200,random_state=11,C=c) # LogisticRegression model\n",
    "#     # Pipeline with scaling and classification as steps, must use a pipelne since we are using KFoldCV\n",
    "#     lr = Pipeline(steps=(['scaler',sc],\n",
    "#                             ['classifier',log_reg]))\n",
    "        \n",
    "        \n",
    "#     cv = StratifiedKFold(n_splits=5,random_state=11,shuffle=True) # Creating a StratifiedKFold object with 5 folds\n",
    "#     cv_scores = cross_val_score(lr,X,y,scoring=\"accuracy\",cv=cv) # Storing the CV scores (accuracy) of each fold\n",
    "        \n",
    "        \n",
    "#     lr.fit(X,y) # Fitting the model\n",
    "\n",
    "#     train_score = lr.score(X,y) # Scoring the model on train set\n",
    "        \n",
    "#         #Building the learning curve\n",
    "#     train_size,train_scores,test_scores = learning_curve(estimator=lr,X=X,y=y,cv=cv,scoring=\"accuracy\",random_state=11)\n",
    "#     train_scores = 1-np.mean(train_scores,axis=1)#converting the accuracy score to misclassification rate\n",
    "#     test_scores = 1-np.mean(test_scores,axis=1)#converting the accuracy score to misclassification rate\n",
    "#     lc = pd.DataFrame({\"Training_size\":train_size,\"Training_loss\":train_scores,\"Validation_loss\":test_scores}).melt(id_vars=\"Training_size\")\n",
    "#     return {\"cv_scores\":cv_scores,\n",
    "#             \"train_score\":train_score,\n",
    "#             \"learning_curve\":lc}"
   ]
  },
  {
   "cell_type": "code",
   "execution_count": 70,
   "metadata": {},
   "outputs": [
    {
     "name": "stdout",
     "output_type": "stream",
     "text": [
      "Cross Validation Accuracies:\n",
      "-------------------------\n",
      "[0.7974413646055437, 0.8052594171997157, 0.8093883357041252, 0.8051209103840683, 0.7965860597439545]\n",
      "\n",
      "Mean Cross Validation Accuracy:\n",
      "-------------------------\n",
      "0.8027592175274814\n",
      "\n",
      "Standard Deviation of Cross Validation Accuracy:\n",
      "-------------------------\n",
      "0.0049428986651454485\n",
      "\n",
      "Training Accuracy:\n",
      "---------------\n",
      "0.8064562002275313\n",
      "\n",
      "\n"
     ]
    },
    {
     "data": {
      "text/plain": [
       "Text(0, 0.5, 'Misclassification Rate/Loss')"
      ]
     },
     "execution_count": 70,
     "metadata": {},
     "output_type": "execute_result"
    },
    {
     "data": {
      "image/png": "[encoded data removed]",
      "text/plain": [
       "<Figure size 432x288 with 1 Axes>"
      ]
     },
     "metadata": {
      "needs_background": "light"
     },
     "output_type": "display_data"
    }
   ],
   "source": [
    "# lc = learn_curve(X,y,1)\n",
    "# print(f'Cross Validation Accuracies:\\n{\"-\"*25}\\n{list(lc[\"cv_scores\"])}\\n\\n\\\n",
    "# Mean Cross Validation Accuracy:\\n{\"-\"*25}\\n{np.mean(lc[\"cv_scores\"])}\\n\\n\\\n",
    "# Standard Deviation of Cross Validation Accuracy:\\n{\"-\"*25}\\n{np.std(lc[\"cv_scores\"])}\\n\\n\\\n",
    "# Training Accuracy:\\n{\"-\"*15}\\n{lc[\"train_score\"]}\\n\\n')\n",
    "# sns.lineplot(data=lc[\"learning_curve\"],x=\"Training_size\",y=\"value\",hue=\"variable\")\n",
    "# plt.title(\"Learning Curve of Good Fit Model\")\n",
    "# plt.ylabel(\"Misclassification Rate/Loss\")"
   ]
  },
  {
   "cell_type": "code",
   "execution_count": null,
   "metadata": {},
   "outputs": [],
   "source": []
  }
 ],
 "metadata": {
  "kernelspec": {
   "display_name": "Python 3.9.5 64-bit",
   "language": "python",
   "name": "python3"
  },
  "language_info": {
   "codemirror_mode": {
    "name": "ipython",
    "version": 3
   },
   "file_extension": ".py",
   "mimetype": "text/x-python",
   "name": "python",
   "nbconvert_exporter": "python",
   "pygments_lexer": "ipython3",
   "version": "3.9.5"
  },
  "orig_nbformat": 4,
  "vscode": {
   "interpreter": {
    "hash": "b23f8f867d85684af1e7b67686fdb4dec1ac7115e636fa6a2f9d018bd0a14b4b"
   }
  }
 },
 "nbformat": 4,
 "nbformat_minor": 2
}
